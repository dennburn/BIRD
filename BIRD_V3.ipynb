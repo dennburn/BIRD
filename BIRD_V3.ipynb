{
 "cells": [
  {
   "cell_type": "markdown",
   "metadata": {},
   "source": [
    "# Basic Integrated Rigid-Origami Demonstrator (B.I.R.D)\n",
    "\n",
    "### The following is a code developed as part of a Group Design Project at the University of Southampton to model parameters of rigid origami folds and study their kinematics.\n",
    "\n",
    "#### The code takes the inputs of the global geomtery of the fold, the desired number of rows and columns within the Miura Ori fold as well as the expected differnetial in angle between the sides of the fold under deformation.\n",
    "\n",
    "#### Authors: Michael Firth, Dennis Burnham, Anna Peters, Matthew Beckett, Stephanie Coles, Jordan Greener\n"
   ]
  },
  {
   "cell_type": "markdown",
   "metadata": {},
   "source": [
    "Import the relevant external python libraries"
   ]
  },
  {
   "cell_type": "code",
   "execution_count": 1,
   "metadata": {},
   "outputs": [],
   "source": [
    "import numpy as np\n",
    "import matplotlib.pyplot as plt\n",
    "from mpl_toolkits.mplot3d import Axes3D\n",
    "import trusspy as tp\n",
    "%matplotlib qt5"
   ]
  },
  {
   "cell_type": "markdown",
   "metadata": {},
   "source": [
    "Define Input Dictionaries"
   ]
  },
  {
   "cell_type": "code",
   "execution_count": 2,
   "metadata": {},
   "outputs": [],
   "source": [
    "global_geometry = {'n_columns':20, 'n_rows':20, 'g_width':200, 'g_depth':200, 'g_height':20}\n",
    "\n",
    "global_geometry = {'n_columns':20, 'n_rows':20, 'g_width':200, 'g_depth':200, 'g_height':20}\n",
    "\n",
    "\n",
    "differential_angle = 5\n",
    "V_L_ratio = 0.8\n",
    "K_fold_K_facet_ratio = 1\n",
    "E = 10.5\n",
    "\n",
    "n_unit_cells = global_geometry['n_columns']*global_geometry['n_rows']\n",
    "\n",
    "cell_coord = np.zeros([global_geometry['n_columns'], global_geometry['n_rows']])\n",
    "\n",
    "i=0\n",
    "for j in range(global_geometry['n_columns']):\n",
    "    for k in range(global_geometry['n_rows']):\n",
    "        cell_coord[j][k] = i\n",
    "        i = i+1"
   ]
  },
  {
   "cell_type": "markdown",
   "metadata": {},
   "source": [
    "Calculate Poisson's Ratio for given specific input"
   ]
  },
  {
   "cell_type": "code",
   "execution_count": 5,
   "metadata": {
    "scrolled": false
   },
   "outputs": [
    {
     "name": "stdout",
     "output_type": "stream",
     "text": [
      "-1.2958129155327456\n"
     ]
    }
   ],
   "source": [
    "#v_sl = (- S/L)*((1-np.cos(differential_angle)/np.sin(differential_angle)))\n",
    "#print(v_sl)"
   ]
  },
  {
   "cell_type": "markdown",
   "metadata": {},
   "source": [
    "Cycle through different combinations of number of rows "
   ]
  },
  {
   "cell_type": "code",
   "execution_count": 6,
   "metadata": {},
   "outputs": [],
   "source": [
    "\"\"\"H_i_row = []\n",
    "S_i_row = []\n",
    "L_i_row  = []\n",
    "V_i_row  = []\n",
    "L0_i_row  = [] \n",
    "S0_i_row  = []\n",
    "V0_i_row  = []\n",
    "theta_i_row  = []\n",
    "gamma_i_row  = []\n",
    "H_i = []\n",
    "S_i= []\n",
    "L_i = []\n",
    "V_i  = []\n",
    "L0_i  = [] \n",
    "S0_i  = []\n",
    "V0_i  = []\n",
    "theta_i  = []\n",
    "gamma_i = []\n",
    "v_sl_i_row = []\n",
    "v_sl_i_col = []\n",
    "Z = []\n",
    "X = []\n",
    "\n",
    "for i in range(200):\n",
    "    H_i_row.append(global_height)\n",
    "    S_i_row.append(global_width/(2*(n_columns)))\n",
    "    L_i_row.append(global_depth/(2*(i+1)))\n",
    "    V_i_row.append(L*V_L_ratio)\n",
    "    L0_i_row.append((H_i_row[i]**2 + (L_i_row[i])**2)**0.5)\n",
    "    S0_i_row.append(((H_i_row[i]**2*V_i_row[i]**2)/(H_i_row[i]**2 + L_i_row[i]**2)+S_i_row[i]**2)**0.5)\n",
    "    V0_i_row.append((L_i_row[i]*V_i_row[i])/((H_i_row[i]**2+L_i_row[i]**2)**0.5))\n",
    "    theta_i_row.append(np.arctan(H_i_row[i]/L_i_row[i]))\n",
    "    gamma_i_row.append(np.arctan(S0_i_row [i]/V0_i_row [i]))\n",
    "\n",
    "    v_sl_i_row.append((- S_i_row[i]/L_i_row[i])*((1-np.cos((differential_angle))/np.sin((differential_angle)))))\n",
    "     \n",
    "    for i in range(50):\n",
    "        H_i.append(global_height)\n",
    "        S_i.append(global_width/(2*(i+1)))\n",
    "        L_i.append(global_depth/(2*(20)))\n",
    "        V_i.append(L*V_L_ratio)\n",
    "        L0_i.append((H_i[i]**2 + (L_i[i])**2)**0.5)\n",
    "        S0_i.append(((H_i[i]**2*V_i[i]**2)/(H_i[i]**2 + L_i[i]**2)+S_i[i]**2)**0.5)\n",
    "        V0_i.append((L_i[i]*V_i[i])/((H_i[i]**2+L_i[i]**2)**0.5))\n",
    "        theta_i.append(np.arctan(H_i[i]/L_i[i]))\n",
    "        gamma_i.append(np.arctan(S0_i[i]/V0_i[i]))\n",
    "        Z.append(L0_i[i]/S0_i[i])\n",
    "        X.append(theta_i[i]/gamma_i[i])\n",
    "\n",
    "        v_sl_i_col.append((- S_i[i]/L_i[i])*((1-np.cos((differential_angle))/np.sin((differential_angle)))))\"\"\""
   ]
  },
  {
   "cell_type": "code",
   "execution_count": 7,
   "metadata": {
    "scrolled": true
   },
   "outputs": [
    {
     "data": {
      "image/png": "[encoded data removed]",
      "text/plain": [
       "<Figure size 432x288 with 1 Axes>"
      ]
     },
     "metadata": {
      "needs_background": "light"
     },
     "output_type": "display_data"
    }
   ],
   "source": [
    "#plt.scatter( np.degrees(theta_i), v_sl_i)\n",
    "#plt.scatter( np.degrees(gamma_i), v_sl_i_row)\n",
    "#plt.scatter( np.degrees(theta_i), v_sl_i)\n",
    "#plt.scatter( L0_i_row, v_sl_i_row)\n",
    "#plt.scatter(Z, v_sl_i_col)\n",
    "#plt.scatter( X, v_sl_i_col)\n",
    "#plt.grid(which='major')\n",
    "#f=np.arange(0,5)\n",
    "#X_arr = np.array(X)\n",
    "#Z_arr = np.array(Z)\n",
    "#idx=np.argwhere(np.diff(np.sign(X_arr-Z_arr))).flatten()\n",
    "#print(idx)\n",
    "#print(f[3])\n",
    "#print(X[3])\n",
    "#plt.scatter(X[3], 'ro')\n",
    "#plt.scatter( V0_i, v_sl_i)\n",
    "#plt.scatter( range(len(v_sl_i_row)), v_sl_i_row)\n",
    "#plt.scatter( range(len(v_sl_i_col)), v_sl_i_col)"
   ]
  },
  {
   "cell_type": "markdown",
   "metadata": {},
   "source": [
    "Define Cell Coordinate Matrix"
   ]
  },
  {
   "cell_type": "code",
   "execution_count": 8,
   "metadata": {},
   "outputs": [],
   "source": [
    "n_unit_cells = n_rows*n_columns\n",
    "\n",
    "cell_coord = np.zeros(global_geometry['n_columns'], global_geometry['n_rows']])\n",
    "\n",
    "i=0\n",
    "for j in range(n_columns):\n",
    "    for k in range(n_rows):\n",
    "        cell_coord[j][k] = i\n",
    "        i = i+1"
   ]
  },
  {
   "cell_type": "markdown",
   "metadata": {},
   "source": [
    "Define Waveform class"
   ]
  },
  {
   "cell_type": "code",
   "execution_count": 9,
   "metadata": {},
   "outputs": [
    {
     "ename": "SyntaxError",
     "evalue": "unexpected EOF while parsing (<ipython-input-9-be7889909032>, line 2)",
     "output_type": "error",
     "traceback": [
      "\u001b[1;36m  File \u001b[1;32m\"<ipython-input-9-be7889909032>\"\u001b[1;36m, line \u001b[1;32m2\u001b[0m\n\u001b[1;33m    def __init__(self, ):\u001b[0m\n\u001b[1;37m                         ^\u001b[0m\n\u001b[1;31mSyntaxError\u001b[0m\u001b[1;31m:\u001b[0m unexpected EOF while parsing\n"
     ]
    }
   ],
   "source": [
    "class Waveform:\n",
    "    def __init__(self ):"
   ]
  },
  {
   "cell_type": "markdown",
   "metadata": {},
   "source": [
    "Define Miura Ori Unit Cell Class"
   ]
  },
  {
   "cell_type": "code",
   "execution_count": 15,
   "metadata": {},
   "outputs": [],
   "source": [
    "class MO_unit_cell:\n",
    "    def __init__(self, global_geometry, V_L_ratio=0.8, cell_number=0):\n",
    "        \"\"\"Define cell number\"\"\"\n",
    "        self.cell_n = cell_number\n",
    "        \n",
    "        \"\"\"Define Cell Geometry\"\"\"\n",
    "        self.H = global_geometry['g_height']\n",
    "        self.S = global_geometry['g_width']/(2*(global_geometry['n_rows']))\n",
    "        self.L = global_geometry['g_depth']/(2*(global_geometry['n_columns'])) \n",
    "        self.V = self.L*V_L_ratio\n",
    "        \n",
    "        \"\"\"Define Cell Net geometry\"\"\"\n",
    "        self.L0 = (self.H**2 + self.L**2)**0.5\n",
    "        self.S0 = ((((self.H**2)*(self.V**2))/(self.H**2 + self.L**2))+self.S**2)**0.5\n",
    "        self.V0 = (self.L*self.V)/((self.H**2+self.L**2)**0.5)\n",
    "        self.theta = np.arctan(self.H/self.L)\n",
    "        self.gamma = np.arctan(self.S0/self.V0)\n",
    "        \n",
    "        \"\"\"Define cell location\"\"\"\n",
    "        self.x_coord = np.where(cell_coord == self.cell_n)[1][0]\n",
    "        self.y_coord = np.where(cell_coord == self.cell_n)[0][0]\n",
    "        \n",
    "        \"\"\" Define unit cell node locations \"\"\"\n",
    "        self.node_coord = np.zeros([9,3])\n",
    "        self.node_coord[0][0] = 0 + self.x_coord*2*self.S\n",
    "        self.node_coord[0][1] = 0 + self.y_coord*2*self.L\n",
    "        self.node_coord[0][2] = 0\n",
    "        self.node_coord[1][0] = self.node_coord[0][0] + self.S\n",
    "        self.node_coord[1][1] = self.node_coord[0][1] + self.V\n",
    "        self.node_coord[1][2] = self.node_coord[0][2] + 0\n",
    "        self.node_coord[2][0] = self.node_coord[0][0] + 2*self.S\n",
    "        self.node_coord[2][1] = self.node_coord[0][1] + 0\n",
    "        self.node_coord[2][2] = self.node_coord[0][2] + 0 \n",
    "        self.node_coord[3][0] = self.node_coord[0][0] + 0 \n",
    "        self.node_coord[3][1] = self.node_coord[0][1] + self.L\n",
    "        self.node_coord[3][2] = self.node_coord[0][2] + self.H\n",
    "        self.node_coord[4][0] = self.node_coord[0][0] + self.S\n",
    "        self.node_coord[4][1] = self.node_coord[0][1] + self.L+self.V#-(L0**2-H**2)**0.5\n",
    "        self.node_coord[4][2] = self.node_coord[0][2] + self.H\n",
    "        self.node_coord[5][0] = self.node_coord[0][0] + 2*self.S\n",
    "        self.node_coord[5][1] = self.node_coord[0][1] + self.L\n",
    "        self.node_coord[5][2] = self.node_coord[0][2] + self.H\n",
    "        self.node_coord[6][0] = self.node_coord[0][0] + 0 \n",
    "        self.node_coord[6][1] = self.node_coord[0][1] + 2*self.L\n",
    "        self.node_coord[6][2] = self.node_coord[0][2] + 0 \n",
    "        self.node_coord[7][0] = self.node_coord[0][0] + self.S\n",
    "        self.node_coord[7][1] = self.node_coord[0][1] + 2*self.L+self.V\n",
    "        self.node_coord[7][2] = self.node_coord[0][2] + 0 \n",
    "        self.node_coord[8][0] = self.node_coord[0][0] + 2*self.S\n",
    "        self.node_coord[8][1] = self.node_coord[0][1] + 2*self.L\n",
    "        self.node_coord[8][2] = self.node_coord[0][2] + 0 \n",
    "    \n",
    "        \"\"\" Define unit cell connectivity \"\"\"\n",
    "        self.node_fold_elements = np.zeros([12, 2])\n",
    "        self.node_fold_elements[0][0] = 0\n",
    "        self.node_fold_elements[0][1] = 1\n",
    "        self.node_fold_elements[1][0] = 1\n",
    "        self.node_fold_elements[1][1] = 2\n",
    "        self.node_fold_elements[2][0] = 0\n",
    "        self.node_fold_elements[2][1] = 3\n",
    "        self.node_fold_elements[3][0] = 1\n",
    "        self.node_fold_elements[3][1] = 4\n",
    "        self.node_fold_elements[4][0] = 2\n",
    "        self.node_fold_elements[4][1] = 5\n",
    "        self.node_fold_elements[5][0] = 3\n",
    "        self.node_fold_elements[5][1] = 4\n",
    "        self.node_fold_elements[6][0] = 4\n",
    "        self.node_fold_elements[6][1] = 5\n",
    "        self.node_fold_elements[7][0] = 3\n",
    "        self.node_fold_elements[7][1] = 6\n",
    "        self.node_fold_elements[8][0] = 4\n",
    "        self.node_fold_elements[8][1] = 7\n",
    "        self.node_fold_elements[9][0] = 5\n",
    "        self.node_fold_elements[9][1] = 8\n",
    "        self.node_fold_elements[10][0] = 6\n",
    "        self.node_fold_elements[10][1] = 7\n",
    "        self.node_fold_elements[11][0] = 7\n",
    "        self.node_fold_elements[11][1] = 8\n",
    "\n",
    "        \"\"\" Define node facet elements \"\"\"\n",
    "        self.node_facet_elements = np.zeros([4, 2])\n",
    "        self.node_facet_elements[0][0]  = 4\n",
    "        self.node_facet_elements[0][1]  = 0\n",
    "        self.node_facet_elements[1][0]  = 4\n",
    "        self.node_facet_elements[1][1]  = 2\n",
    "        self.node_facet_elements[2][0]  = 4\n",
    "        self.node_facet_elements[2][1]  = 6\n",
    "        self.node_facet_elements[3][0]  = 4\n",
    "        self.node_facet_elements[3][1]  = 8\n",
    "        \n",
    "        \"\"\"Define facet element stiffness\"\"\"\n",
    "        self.K_facet = (E*1)/(((((self.node_coord[int(self.node_facet_elements[0][0])][0]-self.node_coord[int(self.node_facet_elements[0][1])][0])**2)+\n",
    "                                        (self.node_coord[int(self.node_facet_elements[0][0])][1]-self.node_coord[int(self.node_facet_elements[0][1])][1])**2)+\n",
    "                                        (self.node_coord[int(self.node_facet_elements[0][0])][2]-self.node_coord[int(self.node_facet_elements[0][1])][2])**2))**0.5\n",
    "\n",
    "        \"\"\"Define fold element stiffness\"\"\"\n",
    "        self.K_fold = self.K_facet*K_fold_K_facet_ratio\n",
    "\n",
    "        \"\"\"Define node displacement\"\"\"\n",
    "        self.node_disp = np.zeros([9,3])\n",
    "        \n",
    "        \"\"\"Define unit cell net\"\"\"\n",
    "        self.net_coord = np.zeros([9,3])\n",
    "        self.net_coord[0][0] = 0 + self.x_coord*(2*self.S0)\n",
    "        self.net_coord[0][1] = 0 + self.y_coord*(2*self.L0)\n",
    "        self.net_coord[0][2] = 0\n",
    "        self.net_coord[1][0] = self.net_coord[0][0] + self.S0\n",
    "        self.net_coord[1][1] = self.net_coord[0][1] + self.V0\n",
    "        self.net_coord[1][2] = self.net_coord[0][2] + 0\n",
    "        self.net_coord[2][0] = self.net_coord[0][0] + 2*self.S0\n",
    "        self.net_coord[2][1] = self.net_coord[0][1] + 0\n",
    "        self.net_coord[2][2] = self.net_coord[0][2] + 0 \n",
    "        self.net_coord[3][0] = self.net_coord[0][0] + 0 \n",
    "        self.net_coord[3][1] = self.net_coord[0][1] + self.L0\n",
    "        self.net_coord[3][2] = self.net_coord[0][2] + 0\n",
    "        self.net_coord[4][0] = self.net_coord[0][0] + self.S0\n",
    "        self.net_coord[4][1] = self.net_coord[0][1] + self.L0+self.V0\n",
    "        self.net_coord[4][2] = self.net_coord[0][2] + 0\n",
    "        self.net_coord[5][0] = self.net_coord[0][0] + 2*self.S0\n",
    "        self.net_coord[5][1] = self.net_coord[0][1] + self.L0\n",
    "        self.net_coord[5][2] = self.net_coord[0][2] + 0\n",
    "        self.net_coord[6][0] = self.net_coord[0][0] + 0 \n",
    "        self.net_coord[6][1] = self.net_coord[0][1] + 2*self.L0\n",
    "        self.net_coord[6][2] = self.net_coord[0][2] + 0 \n",
    "        self.net_coord[7][0] = self.net_coord[0][0] + self.S0\n",
    "        self.net_coord[7][1] = self.net_coord[0][1] + 2*self.L0+self.V0\n",
    "        self.net_coord[7][2] = self.net_coord[0][2] + 0 \n",
    "        self.net_coord[8][0] = self.net_coord[0][0] + 2*self.S0\n",
    "        self.net_coord[8][1] = self.net_coord[0][1] + 2*self.L0\n",
    "        self.net_coord[8][2] = self.net_coord[0][2] + 0 "
   ]
  },
  {
   "cell_type": "code",
   "execution_count": null,
   "metadata": {},
   "outputs": [],
   "source": []
  },
  {
   "cell_type": "code",
   "execution_count": 11,
   "metadata": {
    "scrolled": true
   },
   "outputs": [
    {
     "ename": "SyntaxError",
     "evalue": "unexpected EOF while parsing (<ipython-input-11-30332f99b4bb>, line 2)",
     "output_type": "error",
     "traceback": [
      "\u001b[1;36m  File \u001b[1;32m\"<ipython-input-11-30332f99b4bb>\"\u001b[1;36m, line \u001b[1;32m2\u001b[0m\n\u001b[1;33m    def __init__(self, n_cell_types, unit_cell_and_coords):\u001b[0m\n\u001b[1;37m                                                           ^\u001b[0m\n\u001b[1;31mSyntaxError\u001b[0m\u001b[1;31m:\u001b[0m unexpected EOF while parsing\n"
     ]
    }
   ],
   "source": [
    "class Texture:\n",
    "    def __init__(self, n_cell_types, unit_cell_and_coords={'MO':np.zeros(global_geometry['n_columns'], global_geometry['n_rows'])}):\n",
    "        "
   ]
  },
  {
   "cell_type": "markdown",
   "metadata": {},
   "source": []
  },
  {
   "cell_type": "code",
   "execution_count": null,
   "metadata": {},
   "outputs": [],
   "source": [
    "class Kinematics:\n",
    "    def __init__(self, n_cell_types, unit_cell_and_coords={'MO':np.zeros(global_geometry['n_columns'], global_geometry['n_rows'])}):"
   ]
  },
  {
   "cell_type": "markdown",
   "metadata": {},
   "source": [
    "Create the dictionary of unit cells corrisponding to the overall texture"
   ]
  },
  {
   "cell_type": "code",
   "execution_count": 13,
   "metadata": {
    "scrolled": true
   },
   "outputs": [],
   "source": [
    "cells_dict = {}\n",
    "for k in range(n_unit_cells):\n",
    "    cells_dict['MO_unit_cell_{}'.format(k)] = MO_unit_cell(global_geometry, cell_number=k)"
   ]
  },
  {
   "cell_type": "markdown",
   "metadata": {},
   "source": [
    "Plot the nodes, fold elements and facet elements"
   ]
  },
  {
   "cell_type": "code",
   "execution_count": 14,
   "metadata": {},
   "outputs": [
    {
     "data": {
      "image/png": "[encoded data removed]",
      "text/plain": [
       "<Figure size 432x288 with 1 Axes>"
      ]
     },
     "metadata": {
      "needs_background": "light"
     },
     "output_type": "display_data"
    }
   ],
   "source": [
    "fig1 = plt.figure()\n",
    "ax = fig1.add_subplot(111, projection='3d')\n",
    "ax.set_xlabel(\"Depth of the Origami Texture /mm\")\n",
    "ax.set_ylabel(\"Width of the Origami Texture /mm\")\n",
    "ax.set_zlabel(\"height of the Origami Texture /mm\")\n",
    "ax.set_title(\"Graphical Representation of the undeformed Muira Ori Texture\")\n",
    "ax.set_xlim(0,200)\n",
    "ax.set_ylim(0,200)\n",
    "\n",
    "for j in range(n_unit_cells):\n",
    "    for i in range(len( cells_dict['MO_unit_cell_{}'.format(j)].node_coord)):\n",
    "        x = cells_dict['MO_unit_cell_{}'.format(j)].node_coord[i][0]\n",
    "        y = cells_dict['MO_unit_cell_{}'.format(j)].node_coord[i][1]\n",
    "        z = cells_dict['MO_unit_cell_{}'.format(j)].node_coord[i][2]\n",
    "        ax.scatter(x, y, z, s=50, c='b', depthshade=False)\n",
    "        \n",
    "\n",
    "    for i in range(len(cells_dict['MO_unit_cell_{}'.format(j)].node_fold_elements)):\n",
    "        node_0 = int(cells_dict['MO_unit_cell_{}'.format(j)].node_fold_elements[i][0])\n",
    "        node_1 = int(cells_dict['MO_unit_cell_{}'.format(j)].node_fold_elements[i][1])\n",
    "        xe = [cells_dict['MO_unit_cell_{}'.format(j)].node_coord[node_0][0], cells_dict['MO_unit_cell_{}'.format(j)].node_coord[node_1][0]]\n",
    "        ye = [cells_dict['MO_unit_cell_{}'.format(j)].node_coord[node_0][1], cells_dict['MO_unit_cell_{}'.format(j)].node_coord[node_1][1]]\n",
    "        ze = [cells_dict['MO_unit_cell_{}'.format(j)].node_coord[node_0][2], cells_dict['MO_unit_cell_{}'.format(j)].node_coord[node_1][2]]\n",
    "        ax.plot(xe, ye, ze, 'k', linewidth=2)\n",
    "\n",
    "    for i in range(len(cells_dict['MO_unit_cell_{}'.format(j)].node_facet_elements)):\n",
    "        node_0 = int(cells_dict['MO_unit_cell_{}'.format(j)].node_facet_elements[i][0])\n",
    "        node_1 = int(cells_dict['MO_unit_cell_{}'.format(j)].node_facet_elements[i][1])\n",
    "        xe = [cells_dict['MO_unit_cell_{}'.format(j)].node_coord[node_0][0], cells_dict['MO_unit_cell_{}'.format(j)].node_coord[node_1][0]]\n",
    "        ye = [cells_dict['MO_unit_cell_{}'.format(j)].node_coord[node_0][1], cells_dict['MO_unit_cell_{}'.format(j)].node_coord[node_1][1]]\n",
    "        ze = [cells_dict['MO_unit_cell_{}'.format(j)].node_coord[node_0][2], cells_dict['MO_unit_cell_{}'.format(j)].node_coord[node_1][2]]\n",
    "        ax.plot(xe, ye, ze, 'r', linewidth=2)\n"
   ]
  },
  {
   "cell_type": "markdown",
   "metadata": {},
   "source": [
    "Plot the Muira ori net"
   ]
  },
  {
   "cell_type": "code",
   "execution_count": null,
   "metadata": {
    "scrolled": true
   },
   "outputs": [],
   "source": [
    "#fig2 = plt.figure()\n",
    "\n",
    "plt.xlabel(\"Depth of the Origami Net /mm\")\n",
    "plt.ylabel(\"Width of the Origami Net /mm\")\n",
    "plt.title(\"Graphical Representation of the Muira Ori Net\")\n",
    "#fig2.set_xlim(0,200)\n",
    "#fig2.set_ylim(0,200)\n",
    "\n",
    "for j in range(n_unit_cells):\n",
    "    for i in range(len( cells_dict['unit_cell_{}'.format(j)].net_coord)):\n",
    "        x = cells_dict['unit_cell_{}'.format(j)].net_coord[i][0]\n",
    "        y = cells_dict['unit_cell_{}'.format(j)].net_coord[i][1]\n",
    "        plt.scatter(x, y, s=50, c='b')\n",
    "        \n",
    "\n",
    "    for i in range(len(cells_dict['unit_cell_{}'.format(j)].node_fold_elements)):\n",
    "        node_0 = int(cells_dict['unit_cell_{}'.format(j)].node_fold_elements[i][0])\n",
    "        node_1 = int(cells_dict['unit_cell_{}'.format(j)].node_fold_elements[i][1])\n",
    "        xe = [cells_dict['unit_cell_{}'.format(j)].net_coord[node_0][0], cells_dict['unit_cell_{}'.format(j)].net_coord[node_1][0]]\n",
    "        ye = [cells_dict['unit_cell_{}'.format(j)].net_coord[node_0][1], cells_dict['unit_cell_{}'.format(j)].net_coord[node_1][1]]\n",
    "        plt.plot(xe, ye, 'k', linewidth=2)\n",
    "\n"
   ]
  },
  {
   "cell_type": "markdown",
   "metadata": {},
   "source": [
    "Find the jacobian for the facets"
   ]
  },
  {
   "cell_type": "code",
   "execution_count": null,
   "metadata": {},
   "outputs": [],
   "source": [
    "a = np.zeros([3,1])\n",
    "b = np.zeros([3,1])\n",
    "c = np.zeros([3,1])\n",
    "\n",
    "for i in range(3):\n",
    "    a[i] = cells_dict['unit_cell_0'].node_coord[2][i] - cells_dict['unit_cell_0'].node_coord[4][i]\n",
    "    b[i] = cells_dict['unit_cell_0'].node_coord[5][i] - cells_dict['unit_cell_0'].node_coord[4][i]\n",
    "    c[i] = cells_dict['unit_cell_0'].node_coord[1][i] - cells_dict['unit_cell_0'].node_coord[4][i]\n",
    "\n",
    "kappa = np.arccos((np.tensordot(a,b))/(np.linalg.norm(a)*np.linalg.norm(b)))\n",
    "epsilon = np.arccos((np.tensordot(a,c))/(np.linalg.norm(a)*np.linalg.norm(c)))\n",
    "\n",
    "F = (1/(np.sin(kappa)*np.sin(epsilon)))*(1/((np.linalg.norm(a)**3)*(np.linalg.norm(b))*(np.linalg.norm(c))))*np.tensordot((np.cross(a,(np.cross(c,a,axis=0)),axis=0)),(np.cross(a,b,axis=0)))"
   ]
  },
  {
   "cell_type": "code",
   "execution_count": null,
   "metadata": {},
   "outputs": [],
   "source": [
    "a, b, c\n"
   ]
  },
  {
   "cell_type": "code",
   "execution_count": null,
   "metadata": {},
   "outputs": [],
   "source": [
    "np.degrees(epsilon)\n"
   ]
  },
  {
   "cell_type": "code",
   "execution_count": null,
   "metadata": {},
   "outputs": [],
   "source": [
    "F"
   ]
  },
  {
   "cell_type": "code",
   "execution_count": null,
   "metadata": {},
   "outputs": [],
   "source": [
    "np.degrees(np.arcsin(F))\n"
   ]
  },
  {
   "cell_type": "code",
   "execution_count": null,
   "metadata": {},
   "outputs": [],
   "source": []
  }
 ],
 "metadata": {
  "kernelspec": {
   "display_name": "Python 3",
   "language": "python",
   "name": "python3"
  },
  "language_info": {
   "codemirror_mode": {
    "name": "ipython",
    "version": 3
   },
   "file_extension": ".py",
   "mimetype": "text/x-python",
   "name": "python",
   "nbconvert_exporter": "python",
   "pygments_lexer": "ipython3",
   "version": "3.7.0"
  }
 },
 "nbformat": 4,
 "nbformat_minor": 2
}
